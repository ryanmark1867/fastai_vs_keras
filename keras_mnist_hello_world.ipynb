{
 "cells": [
  {
   "cell_type": "markdown",
   "metadata": {
    "id": "9RVcfBAsqWGs"
   },
   "source": [
    "# Keras \"hello world\" MNIST example\n",
    "\n",
    "Minimal example using the MNIST dataset to demonstrate a minimimal, \"hello world\" type Keras application.\n",
    "\n",
    "This was adapted from https://github.com/tensorflow/docs/blob/master/site/en/tutorials/quickstart/beginner.ipynb"
   ]
  },
  {
   "cell_type": "code",
   "execution_count": 1,
   "metadata": {
    "executionInfo": {
     "elapsed": 1762,
     "status": "ok",
     "timestamp": 1610219490108,
     "user": {
      "displayName": "Mark Ryan",
      "photoUrl": "https://lh3.googleusercontent.com/a-/AOh14GiOaJEeoxteIdEhraqpv8y7ol-feJVt-BYY9ceTIQ=s64",
      "userId": "08045617267833954278"
     },
     "user_tz": 300
    },
    "id": "2f3hw0egqWG6"
   },
   "outputs": [],
   "source": [
    "#import required libraries\n",
    "\n",
    "import tensorflow as tf\n",
    "#import pydotplus\n",
    "#from tensorflow.keras.utils import plot_model"
   ]
  },
  {
   "cell_type": "code",
   "execution_count": 2,
   "metadata": {
    "colab": {
     "base_uri": "https://localhost:8080/"
    },
    "executionInfo": {
     "elapsed": 1129,
     "status": "ok",
     "timestamp": 1610219494078,
     "user": {
      "displayName": "Mark Ryan",
      "photoUrl": "https://lh3.googleusercontent.com/a-/AOh14GiOaJEeoxteIdEhraqpv8y7ol-feJVt-BYY9ceTIQ=s64",
      "userId": "08045617267833954278"
     },
     "user_tz": 300
    },
    "id": "d0PCaG5zqWG8",
    "outputId": "b2001b13-8aaf-44b5-aaac-f171134e9cc2"
   },
   "outputs": [
    {
     "name": "stdout",
     "output_type": "stream",
     "text": [
      "Downloading data from https://storage.googleapis.com/tensorflow/tf-keras-datasets/mnist.npz\n",
      "11493376/11490434 [==============================] - 0s 0us/step\n"
     ]
    }
   ],
   "source": [
    "# define dataset\n",
    "mnist = tf.keras.datasets.mnist\n",
    "(x_train, y_train), (x_test, y_test) = mnist.load_data()\n",
    "x_train, x_test = x_train / 255.0, x_test / 255.0"
   ]
  },
  {
   "cell_type": "code",
   "execution_count": 3,
   "metadata": {
    "executionInfo": {
     "elapsed": 5806,
     "status": "ok",
     "timestamp": 1610219503880,
     "user": {
      "displayName": "Mark Ryan",
      "photoUrl": "https://lh3.googleusercontent.com/a-/AOh14GiOaJEeoxteIdEhraqpv8y7ol-feJVt-BYY9ceTIQ=s64",
      "userId": "08045617267833954278"
     },
     "user_tz": 300
    },
    "id": "oiuIG4k7qWG9"
   },
   "outputs": [],
   "source": [
    "# define layers for the hello world model\n",
    "\n",
    "hello_world_model = tf.keras.models.Sequential([ \n",
    "  tf.keras.layers.Flatten(input_shape=(28, 28)), \n",
    "  tf.keras.layers.Dense(128, activation='relu'), \n",
    "  tf.keras.layers.Dropout(0.15), \n",
    "  tf.keras.layers.Dense(10) \n",
    "])"
   ]
  },
  {
   "cell_type": "code",
   "execution_count": 4,
   "metadata": {
    "colab": {
     "base_uri": "https://localhost:8080/"
    },
    "executionInfo": {
     "elapsed": 21975,
     "status": "ok",
     "timestamp": 1610219529556,
     "user": {
      "displayName": "Mark Ryan",
      "photoUrl": "https://lh3.googleusercontent.com/a-/AOh14GiOaJEeoxteIdEhraqpv8y7ol-feJVt-BYY9ceTIQ=s64",
      "userId": "08045617267833954278"
     },
     "user_tz": 300
    },
    "id": "vjXqclSxqWHA",
    "outputId": "dd57a68f-16e3-4295-8edd-9ff15d727494"
   },
   "outputs": [
    {
     "name": "stdout",
     "output_type": "stream",
     "text": [
      "Epoch 1/10\n",
      "797/797 [==============================] - 4s 3ms/step - loss: 0.5841 - accuracy: 0.8350 - val_loss: 0.1657 - val_accuracy: 0.9540\n",
      "Epoch 2/10\n",
      "797/797 [==============================] - 2s 2ms/step - loss: 0.1870 - accuracy: 0.9454 - val_loss: 0.1231 - val_accuracy: 0.9647\n",
      "Epoch 3/10\n",
      "797/797 [==============================] - 2s 2ms/step - loss: 0.1328 - accuracy: 0.9605 - val_loss: 0.1036 - val_accuracy: 0.9694\n",
      "Epoch 4/10\n",
      "797/797 [==============================] - 2s 2ms/step - loss: 0.0977 - accuracy: 0.9705 - val_loss: 0.0898 - val_accuracy: 0.9747\n",
      "Epoch 5/10\n",
      "797/797 [==============================] - 2s 2ms/step - loss: 0.0869 - accuracy: 0.9737 - val_loss: 0.0849 - val_accuracy: 0.9749\n",
      "Epoch 6/10\n",
      "797/797 [==============================] - 2s 2ms/step - loss: 0.0702 - accuracy: 0.9779 - val_loss: 0.0840 - val_accuracy: 0.9743\n",
      "Epoch 7/10\n",
      "797/797 [==============================] - 2s 2ms/step - loss: 0.0602 - accuracy: 0.9816 - val_loss: 0.0805 - val_accuracy: 0.9766\n",
      "Epoch 8/10\n",
      "797/797 [==============================] - 2s 2ms/step - loss: 0.0519 - accuracy: 0.9845 - val_loss: 0.0773 - val_accuracy: 0.9786\n",
      "Epoch 9/10\n",
      "797/797 [==============================] - 2s 2ms/step - loss: 0.0451 - accuracy: 0.9854 - val_loss: 0.0785 - val_accuracy: 0.9769\n",
      "Epoch 10/10\n",
      "797/797 [==============================] - 2s 2ms/step - loss: 0.0420 - accuracy: 0.9868 - val_loss: 0.0783 - val_accuracy: 0.9788\n",
      "313/313 - 0s - loss: 0.0790 - accuracy: 0.9753\n",
      "Loss for test dataset: 0.079045370221138\n",
      "Accuracy for test dataset: 0.9753000140190125\n"
     ]
    }
   ],
   "source": [
    "# compile the hello world model, including specifying the loss function, optimizer, and metrics\n",
    "\n",
    "hello_world_model.compile(optimizer='adam',\n",
    "              loss=tf.keras.losses.SparseCategoricalCrossentropy(from_logits=True),\n",
    "              metrics=['accuracy']) \n",
    "\n",
    "# train model\n",
    "\n",
    "history = hello_world_model.fit(x_train, y_train,\n",
    "                    batch_size=64,\n",
    "                    epochs=10,\n",
    "                    validation_split=0.15)\n",
    "\n",
    "# assess performance of the model\n",
    "                    \n",
    "test_scores = hello_world_model.evaluate(x_test,  y_test, verbose=2) \n",
    "print('Loss for test dataset:', test_scores[0])\n",
    "print('Accuracy for test dataset:', test_scores[1])\n"
   ]
  },
  {
   "cell_type": "code",
   "execution_count": 5,
   "metadata": {
    "colab": {
     "base_uri": "https://localhost:8080/"
    },
    "executionInfo": {
     "elapsed": 723,
     "status": "ok",
     "timestamp": 1610219533129,
     "user": {
      "displayName": "Mark Ryan",
      "photoUrl": "https://lh3.googleusercontent.com/a-/AOh14GiOaJEeoxteIdEhraqpv8y7ol-feJVt-BYY9ceTIQ=s64",
      "userId": "08045617267833954278"
     },
     "user_tz": 300
    },
    "id": "UYcNaayHqWHB",
    "outputId": "560cfe75-2bb5-4a64-f1b9-5f949bcfc930"
   },
   "outputs": [
    {
     "name": "stdout",
     "output_type": "stream",
     "text": [
      "313/313 - 0s - loss: 0.0790 - accuracy: 0.9753\n",
      "Loss for test dataset: 0.079045370221138\n",
      "Accuracy for test dataset: 0.9753000140190125\n"
     ]
    }
   ],
   "source": [
    "# assess performance of the model on the test set\n",
    "                    \n",
    "test_scores = hello_world_model.evaluate(x_test,  y_test, verbose=2) \n",
    "print('Loss for test dataset:', test_scores[0])\n",
    "print('Accuracy for test dataset:', test_scores[1])"
   ]
  },
  {
   "cell_type": "code",
   "execution_count": null,
   "metadata": {
    "id": "8I3tQUpgqWHC"
   },
   "outputs": [],
   "source": []
  }
 ],
 "metadata": {
  "accelerator": "GPU",
  "colab": {
   "name": "keras_sequential_api_hello_world.ipynb",
   "provenance": []
  },
  "kernelspec": {
   "display_name": "Python 3",
   "language": "python",
   "name": "python3"
  },
  "language_info": {
   "codemirror_mode": {
    "name": "ipython",
    "version": 3
   },
   "file_extension": ".py",
   "mimetype": "text/x-python",
   "name": "python",
   "nbconvert_exporter": "python",
   "pygments_lexer": "ipython3",
   "version": "3.7.4"
  }
 },
 "nbformat": 4,
 "nbformat_minor": 1
}
